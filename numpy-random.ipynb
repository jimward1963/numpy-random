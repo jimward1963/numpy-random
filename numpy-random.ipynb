{
 "cells": [
  {
   "cell_type": "markdown",
   "metadata": {
    "collapsed": true
   },
   "source": [
    "# The numpy.random Package\n",
    "\n",
    "## An investigation into the numpy.random package or submodule in Python.\n",
    "numpy provides various routines through its numpy.random submodule. In particular it uses an algorithm called the Mersenne Twister to generate random numbers.\n",
    "The ability to generate random numbers is an important part of any simulation. Computers and even people cannot or find it difficult to generate really random numbers. For this reason the type of numbers generated on computers are pseudorandom.\n"
   ]
  },
  {
   "cell_type": "markdown",
   "metadata": {},
   "source": [
    "## Simple random data\n",
    "Some examples of this function in numpy.random"
   ]
  },
  {
   "cell_type": "markdown",
   "metadata": {},
   "source": [
    "Basic form: rand(d0,d1,...,d0)"
   ]
  },
  {
   "cell_type": "code",
   "execution_count": 4,
   "metadata": {},
   "outputs": [
    {
     "data": {
      "text/plain": [
       "array([[ 0.56563071,  0.50866289],\n",
       "       [ 0.13659582,  0.21945505],\n",
       "       [ 0.04712577,  0.38272524]])"
      ]
     },
     "execution_count": 4,
     "metadata": {},
     "output_type": "execute_result"
    }
   ],
   "source": [
    "import numpy as np\n",
    "np.random.rand(3,2)"
   ]
  },
  {
   "cell_type": "markdown",
   "metadata": {},
   "source": [
    "Result: the command returns an array of 3 rows and 2 colomns of random numbers between 0 and 1"
   ]
  },
  {
   "cell_type": "code",
   "execution_count": 5,
   "metadata": {},
   "outputs": [
    {
     "data": {
      "text/plain": [
       "array([[ 0.04798651,  1.25878015,  0.4026655 ],\n",
       "       [-0.55194222,  1.38839786,  1.09915041]])"
      ]
     },
     "execution_count": 5,
     "metadata": {},
     "output_type": "execute_result"
    }
   ],
   "source": [
    "np.random.randn(2,3)"
   ]
  },
  {
   "cell_type": "markdown",
   "metadata": {},
   "source": [
    "Result:this command returns 2 rows and 3 columns of random numbers from the normal or Gaussian distribution\n",
    "\n",
    "## Permutations\n",
    "Permutation functions in the package are: shuffle(x) and permutation(x)"
   ]
  },
  {
   "cell_type": "markdown",
   "metadata": {},
   "source": [
    "## Distributions function\n",
    "There are many probability distributions in statistics. numpy.random can generate random values to model these distributions. We discuss 5 of them here;"
   ]
  },
  {
   "cell_type": "markdown",
   "metadata": {},
   "source": [
    "## Uniform Distribution\n",
    "Basic form: uniform([low, high, size])"
   ]
  },
  {
   "cell_type": "code",
   "execution_count": 7,
   "metadata": {},
   "outputs": [
    {
     "data": {
      "text/plain": [
       "array([ 7.40733998,  9.17234279,  6.92906631])"
      ]
     },
     "execution_count": 7,
     "metadata": {},
     "output_type": "execute_result"
    }
   ],
   "source": [
    "np.random.uniform(0,10,3)"
   ]
  },
  {
   "cell_type": "markdown",
   "metadata": {},
   "source": [
    "Result: we get an array of size 3 numbers, randomly generated between 0 and 10. These numbers are almost even, hence the name uniform distribution"
   ]
  },
  {
   "cell_type": "markdown",
   "metadata": {},
   "source": [
    "## Binomial Distribution\n",
    "Basic form:binomial(n, p[, size])"
   ]
  },
  {
   "cell_type": "code",
   "execution_count": 8,
   "metadata": {},
   "outputs": [
    {
     "data": {
      "text/plain": [
       "array([3, 0, 1, 1, 1, 0])"
      ]
     },
     "execution_count": 8,
     "metadata": {},
     "output_type": "execute_result"
    }
   ],
   "source": [
    "np.random.binomial(5,0.1,6)"
   ]
  },
  {
   "cell_type": "markdown",
   "metadata": {},
   "source": [
    "Result: an array of size 6, returning numbers between 0 and 5 with a probability of 0.1 or 10 per cent"
   ]
  },
  {
   "cell_type": "markdown",
   "metadata": {},
   "source": [
    "## Normal Distribution\n",
    "Basic form:normal([loc, scale, size])"
   ]
  },
  {
   "cell_type": "code",
   "execution_count": 9,
   "metadata": {},
   "outputs": [
    {
     "data": {
      "text/plain": [
       "array([-0.32685644, -2.39627928,  2.30335296,  2.30667463, -4.76383374,\n",
       "        2.29436066,  4.30640487, -1.62799281, -3.19950173,  2.4180632 ,\n",
       "       -0.78566209, -0.77860645,  1.61336297, -0.52014584, -2.49297677,\n",
       "       -0.34123751, -2.06874545, -3.64733656,  2.76295624,  4.89929863,\n",
       "        1.18564677,  4.44193138, -0.04675692, -5.39629816,  2.05142777,\n",
       "        1.21387512,  2.81926917,  1.61092106,  1.5901842 ,  3.57983872,\n",
       "       -2.37830257,  1.28333226, -2.69165402, -0.17552196, -0.18149963,\n",
       "        1.60548836, -2.26162145, -2.21805898,  6.02960466, -1.23985555,\n",
       "       -3.02874181,  0.26936625,  1.3143286 , -0.51759401,  1.26400524,\n",
       "       -2.40529684,  0.94779815, -0.06918003,  2.44925539,  1.34705775,\n",
       "       -0.43643941, -0.92204464,  0.67152028, -1.07094724, -3.40249704,\n",
       "        1.77605681,  0.04714223, -2.32301197,  2.52935021,  2.62606771,\n",
       "        0.55205428, -1.33379308, -1.8166441 ,  0.79242791,  2.89324164,\n",
       "       -4.2056899 ,  1.36447494,  3.49331764, -2.29704942,  0.4657409 ,\n",
       "       -0.96852502, -0.27977679, -3.29440173,  1.36369064, -2.97535263,\n",
       "        1.78595316, -3.47917512,  3.74574088,  3.33448744,  2.59366587,\n",
       "        2.99478248, -1.6635651 , -5.30947274, -1.0539141 ,  1.53344638,\n",
       "       -1.94663557, -0.54212002, -1.63101108, -0.95370792,  0.66104778,\n",
       "        0.05886786,  1.01858954,  1.74330087,  2.55076737, -2.38923609,\n",
       "       -2.0419789 , -1.15195739, -1.44377614, -5.57316007,  0.54065495])"
      ]
     },
     "execution_count": 9,
     "metadata": {},
     "output_type": "execute_result"
    }
   ],
   "source": [
    "np.random.normal(0,3,100)"
   ]
  },
  {
   "cell_type": "markdown",
   "metadata": {},
   "source": [
    "Result: an array of 100 elements (numbers) of the standard normal, or Gaussian Distribution. The mean is given as 0, the standard deviation is 3. The spread about the mean is therefore between -3 and 3. Some numbers are on the 'tail' outside of this range."
   ]
  },
  {
   "cell_type": "markdown",
   "metadata": {},
   "source": [
    "## Exponential Distribution\n",
    "Basic form : exponential([scale, size])"
   ]
  },
  {
   "cell_type": "code",
   "execution_count": 10,
   "metadata": {},
   "outputs": [
    {
     "data": {
      "text/plain": [
       "array([ 0.453594 ,  0.2991479])"
      ]
     },
     "execution_count": 10,
     "metadata": {},
     "output_type": "execute_result"
    }
   ],
   "source": [
    "np.random.exponential(1,2)"
   ]
  },
  {
   "cell_type": "markdown",
   "metadata": {},
   "source": [
    "Result: a set of 2 randomly generated numbers of the exponential distribution"
   ]
  },
  {
   "cell_type": "markdown",
   "metadata": {},
   "source": [
    "## Geometric Distribution\n",
    "Basic form: geometric(p[, size])"
   ]
  },
  {
   "cell_type": "code",
   "execution_count": 15,
   "metadata": {},
   "outputs": [
    {
     "data": {
      "text/plain": [
       "array([ 6,  1,  5,  4, 11, 14,  1,  1,  6, 11])"
      ]
     },
     "execution_count": 15,
     "metadata": {},
     "output_type": "execute_result"
    }
   ],
   "source": [
    "np.random.geometric(0.2,10)"
   ]
  },
  {
   "cell_type": "markdown",
   "metadata": {},
   "source": [
    "Result: a set of 10 random numbers corresponding with our choice of 10 as the size. These numbers have a probability of 0.2 or 20 per cent of occurring"
   ]
  },
  {
   "cell_type": "markdown",
   "metadata": {},
   "source": [
    "## Seeds in generating pseudorandom numbers\n",
    "As mentioned above, computers cannot generate pure random numbers. They have to generate pseudorandom values. A seed is the key or starting point in a sequence of random number generation. This 'key' is usually the time in microseconds when the computer was switched on. It follows from this starting point in a sequence that other random numbers will follow. The seed is the first value, to be followed by others in pseudorandom order. For example the RandomState function in numpy.random is a generator of pseudorandom numbers based on the Mersenne Twister (a number based anywhere between 0 and a Mersenne prime, 2**32-1).\n"
   ]
  },
  {
   "cell_type": "code",
   "execution_count": null,
   "metadata": {
    "collapsed": true
   },
   "outputs": [],
   "source": []
  }
 ],
 "metadata": {
  "kernelspec": {
   "display_name": "Python 3",
   "language": "python",
   "name": "python3"
  },
  "language_info": {
   "codemirror_mode": {
    "name": "ipython",
    "version": 3
   },
   "file_extension": ".py",
   "mimetype": "text/x-python",
   "name": "python",
   "nbconvert_exporter": "python",
   "pygments_lexer": "ipython3",
   "version": "3.6.3"
  }
 },
 "nbformat": 4,
 "nbformat_minor": 2
}
